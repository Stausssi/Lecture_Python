{
 "cells": [
  {
   "cell_type": "markdown",
   "metadata": {
    "collapsed": true,
    "pycharm": {
     "name": "#%% md\n"
    }
   },
   "source": [
    "# Datenbanken\n",
    "## Arten\n",
    "- relationale Datenbanken (MySQL, sqlite, ...)\n",
    "- dokumentenbasierend (RavenDB, ...)\n",
    "- nicht relationale (MongoDB, ...)\n",
    "- GraphQL, GraphDatenbanken (Neo4j, ...)\n",
    "- zeitabhängige Datenbanken (inFlux, ...)\n",
    "- objektorientierte Datenbanken (Frameworks, ...)\n",
    "\n",
    "## Datenbanken allgemein:\n",
    "- typischerweise - Tabelle\n",
    "- Graphen - (Bäumen), vektorbasierendes Speichern\n",
    "- Datenstruktur --- 1) wir wissen die --- 2) wir wollen die\n",
    "- Daten geregelt speichern\n",
    "- Tabellen --- Inputs / Storages / Tables\n",
    "- Views -- Ansicht von Daten\n",
    "\n",
    "## Datenbanken - relational\n",
    "- Tabellen\n",
    "- Datensatz --- Zeile innerhalb einer Tabelle\n",
    "- ID / Schlüssel --- Einzigartigkeiten innerhalb des Datensatzes zu generieren\n",
    "- Feldern --- Spaltennamen\n",
    "- Datenfeld / Datenzelle --- Daten x,y adressiert (Spalte, Zeile) --- z Tabelle\n",
    "\n",
    "## n. Rel.\n",
    "- Vaults, Satellites (Struktur) --- Oracle DataWarehouse System\n",
    "- Knoten (Graph-Datenbanken), z. B. Neo4j\n",
    "\n",
    "## Sprachen in Datenbanken\n",
    "- rel: SQL --- structured query language\n",
    "- cypher\n",
    "- ( R )\n",
    "- ( json files/operations)\n",
    "\n",
    "## Schwierigkeiten\n",
    "- Syntaxlogik könnte abweichen\n",
    "    - Wir müssen im Vorgeld überlegen wie unsere Datenstruktur aussieht\n",
    "    - → Daten analysieren und \"verstehen\"\n",
    "\n",
    "## Vorgehen und Regeln\n",
    "1. identifizieren meiner Datenbank -> Welche Syntax?\n",
    "2. Treiber (wie baue ich eine Verbindung auf? -> Bibliotheken / Module)\n",
    "3. Zeiger zu der Datenbank (oft automatisch geregelt)\n",
    "4. ggf. Beschreibung (Schema)\n",
    "5. Anweisungen (was soll mein Tool eigentlich machen?)\n",
    "\n",
    "# sqlite"
   ]
  },
  {
   "cell_type": "code",
   "execution_count": 1,
   "outputs": [],
   "source": [
    "# 1: Import\n",
    "import sqlite3\n",
    "#help(sqlite3)"
   ],
   "metadata": {
    "collapsed": false,
    "pycharm": {
     "name": "#%%\n"
    }
   }
  },
  {
   "cell_type": "markdown",
   "source": [
    "connect(...)\n",
    "\n",
    "        connect(database[, timeout, detect_types, isolation_level,\n",
    "                check_same_thread, factory, cached_statements, uri])\n",
    "\n",
    "        Opens a connection to the SQLite database file *database*. You can use\n",
    "        \":memory:\" to open a database connection to a database that resides in\n",
    "        RAM instead of on disk."
   ],
   "metadata": {
    "collapsed": false,
    "pycharm": {
     "name": "#%% md\n"
    }
   }
  },
  {
   "cell_type": "code",
   "execution_count": 11,
   "outputs": [
    {
     "ename": "OperationalError",
     "evalue": "table corona_items already exists",
     "output_type": "error",
     "traceback": [
      "\u001B[1;31m---------------------------------------------------------------------------\u001B[0m",
      "\u001B[1;31mOperationalError\u001B[0m                          Traceback (most recent call last)",
      "\u001B[1;32m<ipython-input-11-25f98a18d737>\u001B[0m in \u001B[0;36m<module>\u001B[1;34m\u001B[0m\n\u001B[0;32m     18\u001B[0m \u001B[1;33m\u001B[0m\u001B[0m\n\u001B[0;32m     19\u001B[0m \u001B[0mmy_creation\u001B[0m \u001B[1;33m=\u001B[0m \u001B[1;34mf\"CREATE TABLE {table_name} ({table_fields})\"\u001B[0m\u001B[1;33m\u001B[0m\u001B[1;33m\u001B[0m\u001B[0m\n\u001B[1;32m---> 20\u001B[1;33m \u001B[0mdb_cursor\u001B[0m\u001B[1;33m.\u001B[0m\u001B[0mexecute\u001B[0m\u001B[1;33m(\u001B[0m\u001B[0mmy_creation\u001B[0m\u001B[1;33m)\u001B[0m\u001B[1;33m\u001B[0m\u001B[1;33m\u001B[0m\u001B[0m\n\u001B[0m\u001B[0;32m     21\u001B[0m \u001B[1;33m\u001B[0m\u001B[0m\n",
      "\u001B[1;31mOperationalError\u001B[0m: table corona_items already exists"
     ]
    }
   ],
   "source": [
    "# 2: Create connection\n",
    "db_name = \"datengrab.db\"\n",
    "db_connection = sqlite3.connect(db_name)\n",
    "#help(db_connection)\n",
    "\n",
    "# 3: Grab the cursor\n",
    "db_cursor = db_connection.cursor()\n",
    "\n",
    "# 4: Description:\n",
    "# table --- corona_items\n",
    "# item_name = String --- VARCHAR\n",
    "# item_amount = INT --- REAL\n",
    "# item_desc = String --- TEXT\n",
    "\n",
    "# 5: Statement\n",
    "table_name = \"corona_items\"\n",
    "table_fields = \"item_name VARCHAR, item_amount REAL, item_desc TEXT\"\n",
    "\n",
    "my_creation = f\"CREATE TABLE {table_name} ({table_fields})\"\n",
    "db_cursor.execute(my_creation)"
   ],
   "metadata": {
    "collapsed": false,
    "pycharm": {
     "name": "#%%\n"
    }
   }
  },
  {
   "cell_type": "code",
   "execution_count": 3,
   "outputs": [],
   "source": [
    "my_insert = f\"INSERT INTO {table_name} VALUES('Klopapier', '40', 'Wertpapieranlage in Rollen')\"\n",
    "my_insert_2 = f\"INSERT INTO {table_name} VALUES('Mehl', '100', 'kann man Mehlengel mit machen')\"\n",
    "\n",
    "for i in range(100):\n",
    "    db_cursor.execute(my_insert)\n",
    "    db_cursor.execute(my_insert_2)\n",
    "\n",
    "db_connection.commit()"
   ],
   "metadata": {
    "collapsed": false,
    "pycharm": {
     "name": "#%%\n"
    }
   }
  },
  {
   "cell_type": "code",
   "execution_count": 12,
   "outputs": [
    {
     "name": "stdout",
     "output_type": "stream",
     "text": [
      "('Klopapier', 40.0, 'Wertpapieranlage in Rollen')\n",
      "('Mehl', 100.0, 'kann man Mehlengel mit machen')\n",
      "('Klopapier', 40.0, 'Wertpapieranlage in Rollen')\n",
      "('Mehl', 100.0, 'kann man Mehlengel mit machen')\n",
      "('Klopapier', 40.0, 'Wertpapieranlage in Rollen')\n",
      "('Mehl', 100.0, 'kann man Mehlengel mit machen')\n",
      "('Klopapier', 40.0, 'Wertpapieranlage in Rollen')\n",
      "('Mehl', 100.0, 'kann man Mehlengel mit machen')\n",
      "('Klopapier', 40.0, 'Wertpapieranlage in Rollen')\n",
      "('Mehl', 100.0, 'kann man Mehlengel mit machen')\n",
      "('Klopapier', 40.0, 'Wertpapieranlage in Rollen')\n",
      "('Mehl', 100.0, 'kann man Mehlengel mit machen')\n",
      "('Klopapier', 40.0, 'Wertpapieranlage in Rollen')\n",
      "('Mehl', 100.0, 'kann man Mehlengel mit machen')\n",
      "('Klopapier', 40.0, 'Wertpapieranlage in Rollen')\n",
      "('Mehl', 100.0, 'kann man Mehlengel mit machen')\n",
      "('Klopapier', 40.0, 'Wertpapieranlage in Rollen')\n",
      "('Mehl', 100.0, 'kann man Mehlengel mit machen')\n",
      "('Klopapier', 40.0, 'Wertpapieranlage in Rollen')\n",
      "('Mehl', 100.0, 'kann man Mehlengel mit machen')\n",
      "('Klopapier', 40.0, 'Wertpapieranlage in Rollen')\n",
      "('Mehl', 100.0, 'kann man Mehlengel mit machen')\n",
      "('Klopapier', 40.0, 'Wertpapieranlage in Rollen')\n",
      "('Mehl', 100.0, 'kann man Mehlengel mit machen')\n",
      "('Klopapier', 40.0, 'Wertpapieranlage in Rollen')\n",
      "('Mehl', 100.0, 'kann man Mehlengel mit machen')\n",
      "('Klopapier', 40.0, 'Wertpapieranlage in Rollen')\n",
      "('Mehl', 100.0, 'kann man Mehlengel mit machen')\n",
      "('Klopapier', 40.0, 'Wertpapieranlage in Rollen')\n",
      "('Mehl', 100.0, 'kann man Mehlengel mit machen')\n",
      "('Klopapier', 40.0, 'Wertpapieranlage in Rollen')\n",
      "('Mehl', 100.0, 'kann man Mehlengel mit machen')\n",
      "('Klopapier', 40.0, 'Wertpapieranlage in Rollen')\n",
      "('Mehl', 100.0, 'kann man Mehlengel mit machen')\n",
      "('Klopapier', 40.0, 'Wertpapieranlage in Rollen')\n",
      "('Mehl', 100.0, 'kann man Mehlengel mit machen')\n",
      "('Klopapier', 40.0, 'Wertpapieranlage in Rollen')\n",
      "('Mehl', 100.0, 'kann man Mehlengel mit machen')\n",
      "('Klopapier', 40.0, 'Wertpapieranlage in Rollen')\n",
      "('Mehl', 100.0, 'kann man Mehlengel mit machen')\n",
      "('Klopapier', 40.0, 'Wertpapieranlage in Rollen')\n",
      "('Mehl', 100.0, 'kann man Mehlengel mit machen')\n",
      "('Klopapier', 40.0, 'Wertpapieranlage in Rollen')\n",
      "('Mehl', 100.0, 'kann man Mehlengel mit machen')\n",
      "('Klopapier', 40.0, 'Wertpapieranlage in Rollen')\n",
      "('Mehl', 100.0, 'kann man Mehlengel mit machen')\n",
      "('Klopapier', 40.0, 'Wertpapieranlage in Rollen')\n",
      "('Mehl', 100.0, 'kann man Mehlengel mit machen')\n",
      "('Klopapier', 40.0, 'Wertpapieranlage in Rollen')\n",
      "('Mehl', 100.0, 'kann man Mehlengel mit machen')\n",
      "('Klopapier', 40.0, 'Wertpapieranlage in Rollen')\n",
      "('Mehl', 100.0, 'kann man Mehlengel mit machen')\n",
      "('Klopapier', 40.0, 'Wertpapieranlage in Rollen')\n",
      "('Mehl', 100.0, 'kann man Mehlengel mit machen')\n",
      "('Klopapier', 40.0, 'Wertpapieranlage in Rollen')\n",
      "('Mehl', 100.0, 'kann man Mehlengel mit machen')\n",
      "('Klopapier', 40.0, 'Wertpapieranlage in Rollen')\n",
      "('Mehl', 100.0, 'kann man Mehlengel mit machen')\n",
      "('Klopapier', 40.0, 'Wertpapieranlage in Rollen')\n",
      "('Mehl', 100.0, 'kann man Mehlengel mit machen')\n",
      "('Klopapier', 40.0, 'Wertpapieranlage in Rollen')\n",
      "('Mehl', 100.0, 'kann man Mehlengel mit machen')\n",
      "('Klopapier', 40.0, 'Wertpapieranlage in Rollen')\n",
      "('Mehl', 100.0, 'kann man Mehlengel mit machen')\n",
      "('Klopapier', 40.0, 'Wertpapieranlage in Rollen')\n",
      "('Mehl', 100.0, 'kann man Mehlengel mit machen')\n",
      "('Klopapier', 40.0, 'Wertpapieranlage in Rollen')\n",
      "('Mehl', 100.0, 'kann man Mehlengel mit machen')\n",
      "('Klopapier', 40.0, 'Wertpapieranlage in Rollen')\n",
      "('Mehl', 100.0, 'kann man Mehlengel mit machen')\n",
      "('Klopapier', 40.0, 'Wertpapieranlage in Rollen')\n",
      "('Mehl', 100.0, 'kann man Mehlengel mit machen')\n",
      "('Klopapier', 40.0, 'Wertpapieranlage in Rollen')\n",
      "('Mehl', 100.0, 'kann man Mehlengel mit machen')\n",
      "('Klopapier', 40.0, 'Wertpapieranlage in Rollen')\n",
      "('Mehl', 100.0, 'kann man Mehlengel mit machen')\n",
      "('Klopapier', 40.0, 'Wertpapieranlage in Rollen')\n",
      "('Mehl', 100.0, 'kann man Mehlengel mit machen')\n",
      "('Klopapier', 40.0, 'Wertpapieranlage in Rollen')\n",
      "('Mehl', 100.0, 'kann man Mehlengel mit machen')\n",
      "('Klopapier', 40.0, 'Wertpapieranlage in Rollen')\n",
      "('Mehl', 100.0, 'kann man Mehlengel mit machen')\n",
      "('Klopapier', 40.0, 'Wertpapieranlage in Rollen')\n",
      "('Mehl', 100.0, 'kann man Mehlengel mit machen')\n",
      "('Klopapier', 40.0, 'Wertpapieranlage in Rollen')\n",
      "('Mehl', 100.0, 'kann man Mehlengel mit machen')\n",
      "('Klopapier', 40.0, 'Wertpapieranlage in Rollen')\n",
      "('Mehl', 100.0, 'kann man Mehlengel mit machen')\n",
      "('Klopapier', 40.0, 'Wertpapieranlage in Rollen')\n",
      "('Mehl', 100.0, 'kann man Mehlengel mit machen')\n",
      "('Klopapier', 40.0, 'Wertpapieranlage in Rollen')\n",
      "('Mehl', 100.0, 'kann man Mehlengel mit machen')\n",
      "('Klopapier', 40.0, 'Wertpapieranlage in Rollen')\n",
      "('Mehl', 100.0, 'kann man Mehlengel mit machen')\n",
      "('Klopapier', 40.0, 'Wertpapieranlage in Rollen')\n",
      "('Mehl', 100.0, 'kann man Mehlengel mit machen')\n",
      "('Klopapier', 40.0, 'Wertpapieranlage in Rollen')\n",
      "('Mehl', 100.0, 'kann man Mehlengel mit machen')\n",
      "('Klopapier', 40.0, 'Wertpapieranlage in Rollen')\n",
      "('Mehl', 100.0, 'kann man Mehlengel mit machen')\n",
      "('Klopapier', 40.0, 'Wertpapieranlage in Rollen')\n",
      "('Mehl', 100.0, 'kann man Mehlengel mit machen')\n",
      "('Klopapier', 40.0, 'Wertpapieranlage in Rollen')\n",
      "('Mehl', 100.0, 'kann man Mehlengel mit machen')\n",
      "('Klopapier', 40.0, 'Wertpapieranlage in Rollen')\n",
      "('Mehl', 100.0, 'kann man Mehlengel mit machen')\n",
      "('Klopapier', 40.0, 'Wertpapieranlage in Rollen')\n",
      "('Mehl', 100.0, 'kann man Mehlengel mit machen')\n",
      "('Klopapier', 40.0, 'Wertpapieranlage in Rollen')\n",
      "('Mehl', 100.0, 'kann man Mehlengel mit machen')\n",
      "('Klopapier', 40.0, 'Wertpapieranlage in Rollen')\n",
      "('Mehl', 100.0, 'kann man Mehlengel mit machen')\n",
      "('Klopapier', 40.0, 'Wertpapieranlage in Rollen')\n",
      "('Mehl', 100.0, 'kann man Mehlengel mit machen')\n",
      "('Klopapier', 40.0, 'Wertpapieranlage in Rollen')\n",
      "('Mehl', 100.0, 'kann man Mehlengel mit machen')\n",
      "('Klopapier', 40.0, 'Wertpapieranlage in Rollen')\n",
      "('Mehl', 100.0, 'kann man Mehlengel mit machen')\n",
      "('Klopapier', 40.0, 'Wertpapieranlage in Rollen')\n",
      "('Mehl', 100.0, 'kann man Mehlengel mit machen')\n",
      "('Klopapier', 40.0, 'Wertpapieranlage in Rollen')\n",
      "('Mehl', 100.0, 'kann man Mehlengel mit machen')\n",
      "('Klopapier', 40.0, 'Wertpapieranlage in Rollen')\n",
      "('Mehl', 100.0, 'kann man Mehlengel mit machen')\n",
      "('Klopapier', 40.0, 'Wertpapieranlage in Rollen')\n",
      "('Mehl', 100.0, 'kann man Mehlengel mit machen')\n",
      "('Klopapier', 40.0, 'Wertpapieranlage in Rollen')\n",
      "('Mehl', 100.0, 'kann man Mehlengel mit machen')\n",
      "('Klopapier', 40.0, 'Wertpapieranlage in Rollen')\n",
      "('Mehl', 100.0, 'kann man Mehlengel mit machen')\n",
      "('Klopapier', 40.0, 'Wertpapieranlage in Rollen')\n",
      "('Mehl', 100.0, 'kann man Mehlengel mit machen')\n",
      "('Klopapier', 40.0, 'Wertpapieranlage in Rollen')\n",
      "('Mehl', 100.0, 'kann man Mehlengel mit machen')\n",
      "('Klopapier', 40.0, 'Wertpapieranlage in Rollen')\n",
      "('Mehl', 100.0, 'kann man Mehlengel mit machen')\n",
      "('Klopapier', 40.0, 'Wertpapieranlage in Rollen')\n",
      "('Mehl', 100.0, 'kann man Mehlengel mit machen')\n",
      "('Klopapier', 40.0, 'Wertpapieranlage in Rollen')\n",
      "('Mehl', 100.0, 'kann man Mehlengel mit machen')\n",
      "('Klopapier', 40.0, 'Wertpapieranlage in Rollen')\n",
      "('Mehl', 100.0, 'kann man Mehlengel mit machen')\n",
      "('Klopapier', 40.0, 'Wertpapieranlage in Rollen')\n",
      "('Mehl', 100.0, 'kann man Mehlengel mit machen')\n",
      "('Klopapier', 40.0, 'Wertpapieranlage in Rollen')\n",
      "('Mehl', 100.0, 'kann man Mehlengel mit machen')\n",
      "('Klopapier', 40.0, 'Wertpapieranlage in Rollen')\n",
      "('Mehl', 100.0, 'kann man Mehlengel mit machen')\n",
      "('Klopapier', 40.0, 'Wertpapieranlage in Rollen')\n",
      "('Mehl', 100.0, 'kann man Mehlengel mit machen')\n",
      "('Klopapier', 40.0, 'Wertpapieranlage in Rollen')\n",
      "('Mehl', 100.0, 'kann man Mehlengel mit machen')\n",
      "('Klopapier', 40.0, 'Wertpapieranlage in Rollen')\n",
      "('Mehl', 100.0, 'kann man Mehlengel mit machen')\n",
      "('Klopapier', 40.0, 'Wertpapieranlage in Rollen')\n",
      "('Mehl', 100.0, 'kann man Mehlengel mit machen')\n",
      "('Klopapier', 40.0, 'Wertpapieranlage in Rollen')\n",
      "('Mehl', 100.0, 'kann man Mehlengel mit machen')\n",
      "('Klopapier', 40.0, 'Wertpapieranlage in Rollen')\n",
      "('Mehl', 100.0, 'kann man Mehlengel mit machen')\n",
      "('Klopapier', 40.0, 'Wertpapieranlage in Rollen')\n",
      "('Mehl', 100.0, 'kann man Mehlengel mit machen')\n",
      "('Klopapier', 40.0, 'Wertpapieranlage in Rollen')\n",
      "('Mehl', 100.0, 'kann man Mehlengel mit machen')\n",
      "('Klopapier', 40.0, 'Wertpapieranlage in Rollen')\n",
      "('Mehl', 100.0, 'kann man Mehlengel mit machen')\n",
      "('Klopapier', 40.0, 'Wertpapieranlage in Rollen')\n",
      "('Mehl', 100.0, 'kann man Mehlengel mit machen')\n",
      "('Klopapier', 40.0, 'Wertpapieranlage in Rollen')\n",
      "('Mehl', 100.0, 'kann man Mehlengel mit machen')\n",
      "('Klopapier', 40.0, 'Wertpapieranlage in Rollen')\n",
      "('Mehl', 100.0, 'kann man Mehlengel mit machen')\n",
      "('Klopapier', 40.0, 'Wertpapieranlage in Rollen')\n",
      "('Mehl', 100.0, 'kann man Mehlengel mit machen')\n",
      "('Klopapier', 40.0, 'Wertpapieranlage in Rollen')\n",
      "('Mehl', 100.0, 'kann man Mehlengel mit machen')\n",
      "('Klopapier', 40.0, 'Wertpapieranlage in Rollen')\n",
      "('Mehl', 100.0, 'kann man Mehlengel mit machen')\n",
      "('Klopapier', 40.0, 'Wertpapieranlage in Rollen')\n",
      "('Mehl', 100.0, 'kann man Mehlengel mit machen')\n",
      "('Klopapier', 40.0, 'Wertpapieranlage in Rollen')\n",
      "('Mehl', 100.0, 'kann man Mehlengel mit machen')\n",
      "('Klopapier', 40.0, 'Wertpapieranlage in Rollen')\n",
      "('Mehl', 100.0, 'kann man Mehlengel mit machen')\n",
      "('Klopapier', 40.0, 'Wertpapieranlage in Rollen')\n",
      "('Mehl', 100.0, 'kann man Mehlengel mit machen')\n",
      "('Klopapier', 40.0, 'Wertpapieranlage in Rollen')\n",
      "('Mehl', 100.0, 'kann man Mehlengel mit machen')\n",
      "('Klopapier', 40.0, 'Wertpapieranlage in Rollen')\n",
      "('Mehl', 100.0, 'kann man Mehlengel mit machen')\n",
      "('Klopapier', 40.0, 'Wertpapieranlage in Rollen')\n",
      "('Mehl', 100.0, 'kann man Mehlengel mit machen')\n",
      "('Klopapier', 40.0, 'Wertpapieranlage in Rollen')\n",
      "('Mehl', 100.0, 'kann man Mehlengel mit machen')\n",
      "('Klopapier', 40.0, 'Wertpapieranlage in Rollen')\n",
      "('Mehl', 100.0, 'kann man Mehlengel mit machen')\n",
      "('Klopapier', 40.0, 'Wertpapieranlage in Rollen')\n",
      "('Mehl', 100.0, 'kann man Mehlengel mit machen')\n",
      "('Klopapier', 40.0, 'Wertpapieranlage in Rollen')\n",
      "('Mehl', 100.0, 'kann man Mehlengel mit machen')\n"
     ]
    }
   ],
   "source": [
    "my_select = f\"SELECT * FROM {table_name}\"\n",
    "\n",
    "for my_data in db_cursor.execute(my_select):\n",
    "    print(my_data)"
   ],
   "metadata": {
    "collapsed": false,
    "pycharm": {
     "name": "#%%\n"
    }
   }
  },
  {
   "cell_type": "code",
   "execution_count": 9,
   "outputs": [],
   "source": [
    "def create_sqlite_table(tablename: str, fieldnames: str, cursor: sqlite3.Cursor):\n",
    "    \"\"\"creation of table\n",
    "        - create a database table for initial preparation\n",
    "        - userinput tablename\n",
    "\n",
    "        test:\n",
    "            * creation of table - if table exists\n",
    "            * tablename/fieldname empty?\n",
    "\n",
    "    :param:\n",
    "        tablename (str): name of table for creation\n",
    "        fieldnames (str): fieldnames inside table\n",
    "        db_cursor (sqlite3.connection.cursor): cursor to my database\n",
    "\n",
    "    :return:\n",
    "    \"\"\"\n",
    "    statement = f\"CREATE TABLE {tablename} ({fieldnames})\"\n",
    "\n",
    "    try:\n",
    "        # _ = function_call_returns_stuff_we_dont_want()\n",
    "        db_cursor.execute(statement)\n",
    "    except Exception as general_error:\n",
    "        print(\"sth went balls deep in the ass: \" + str(general_error))"
   ],
   "metadata": {
    "collapsed": false,
    "pycharm": {
     "name": "#%%\n"
    }
   }
  },
  {
   "cell_type": "code",
   "execution_count": 13,
   "outputs": [
    {
     "name": "stdout",
     "output_type": "stream",
     "text": [
      "sth went balls deep in the ass: table corona_items already exists\n"
     ]
    }
   ],
   "source": [
    "create_sqlite_table(table_name, table_fields, db_cursor)"
   ],
   "metadata": {
    "collapsed": false,
    "pycharm": {
     "name": "#%%\n"
    }
   }
  },
  {
   "cell_type": "code",
   "execution_count": 7,
   "outputs": [],
   "source": [
    "db_connection.close()\n",
    "\n"
   ],
   "metadata": {
    "collapsed": false,
    "pycharm": {
     "name": "#%%\n"
    }
   }
  },
  {
   "cell_type": "markdown",
   "source": [
    "# sqlalchemy das geile Ding"
   ],
   "metadata": {
    "collapsed": false,
    "pycharm": {
     "name": "#%% md\n"
    }
   }
  },
  {
   "cell_type": "code",
   "execution_count": 15,
   "outputs": [],
   "source": [
    "import sqlalchemy as db\n",
    "# step 1\n",
    "engine = db.create_engine(\"sqlite:///datengrab.db\")"
   ],
   "metadata": {
    "collapsed": false,
    "pycharm": {
     "name": "#%%\n"
    }
   }
  },
  {
   "cell_type": "code",
   "execution_count": 22,
   "outputs": [
    {
     "name": "stderr",
     "output_type": "stream",
     "text": [
      "<ipython-input-22-0eab47504e25>:5: SADeprecationWarning: The Engine.table_names() method is deprecated and will be removed in a future release.  Please refer to Inspector.get_table_names(). (deprecated since: 1.4)\n",
      "  my_detection = db.Table(engine.table_names()[0], metadata, autoload=True, autoload_with=engine)\n"
     ]
    },
    {
     "data": {
      "text/plain": "Table('corona_items', MetaData(), Column('item_name', VARCHAR(), table=<corona_items>), Column('item_amount', REAL(), table=<corona_items>), Column('item_desc', TEXT(), table=<corona_items>), schema=None)"
     },
     "execution_count": 22,
     "metadata": {},
     "output_type": "execute_result"
    }
   ],
   "source": [
    "#step 2\n",
    "connection = engine.connect()\n",
    "metadata = db.MetaData()\n",
    "#print(engine.table_names())\n",
    "my_detection = db.Table(engine.table_names()[0], metadata, autoload=True, autoload_with=engine)"
   ],
   "metadata": {
    "collapsed": false,
    "pycharm": {
     "name": "#%%\n"
    }
   }
  },
  {
   "cell_type": "code",
   "execution_count": 27,
   "outputs": [
    {
     "name": "stdout",
     "output_type": "stream",
     "text": [
      "SELECT corona_items.item_name, corona_items.item_amount, corona_items.item_desc \n",
      "FROM corona_items\n"
     ]
    }
   ],
   "source": [
    "query = db.select([my_detection])\n",
    "print(query)"
   ],
   "metadata": {
    "collapsed": false,
    "pycharm": {
     "name": "#%%\n"
    }
   }
  },
  {
   "cell_type": "code",
   "execution_count": 28,
   "outputs": [
    {
     "data": {
      "text/plain": "[('Klopapier', 40.0, 'Wertpapieranlage in Rollen'),\n ('Mehl', 100.0, 'kann man Mehlengel mit machen'),\n ('Klopapier', 40.0, 'Wertpapieranlage in Rollen'),\n ('Mehl', 100.0, 'kann man Mehlengel mit machen'),\n ('Klopapier', 40.0, 'Wertpapieranlage in Rollen'),\n ('Mehl', 100.0, 'kann man Mehlengel mit machen'),\n ('Klopapier', 40.0, 'Wertpapieranlage in Rollen'),\n ('Mehl', 100.0, 'kann man Mehlengel mit machen'),\n ('Klopapier', 40.0, 'Wertpapieranlage in Rollen'),\n ('Mehl', 100.0, 'kann man Mehlengel mit machen'),\n ('Klopapier', 40.0, 'Wertpapieranlage in Rollen'),\n ('Mehl', 100.0, 'kann man Mehlengel mit machen'),\n ('Klopapier', 40.0, 'Wertpapieranlage in Rollen'),\n ('Mehl', 100.0, 'kann man Mehlengel mit machen'),\n ('Klopapier', 40.0, 'Wertpapieranlage in Rollen'),\n ('Mehl', 100.0, 'kann man Mehlengel mit machen'),\n ('Klopapier', 40.0, 'Wertpapieranlage in Rollen'),\n ('Mehl', 100.0, 'kann man Mehlengel mit machen'),\n ('Klopapier', 40.0, 'Wertpapieranlage in Rollen'),\n ('Mehl', 100.0, 'kann man Mehlengel mit machen'),\n ('Klopapier', 40.0, 'Wertpapieranlage in Rollen'),\n ('Mehl', 100.0, 'kann man Mehlengel mit machen'),\n ('Klopapier', 40.0, 'Wertpapieranlage in Rollen'),\n ('Mehl', 100.0, 'kann man Mehlengel mit machen'),\n ('Klopapier', 40.0, 'Wertpapieranlage in Rollen'),\n ('Mehl', 100.0, 'kann man Mehlengel mit machen'),\n ('Klopapier', 40.0, 'Wertpapieranlage in Rollen'),\n ('Mehl', 100.0, 'kann man Mehlengel mit machen'),\n ('Klopapier', 40.0, 'Wertpapieranlage in Rollen'),\n ('Mehl', 100.0, 'kann man Mehlengel mit machen'),\n ('Klopapier', 40.0, 'Wertpapieranlage in Rollen'),\n ('Mehl', 100.0, 'kann man Mehlengel mit machen'),\n ('Klopapier', 40.0, 'Wertpapieranlage in Rollen'),\n ('Mehl', 100.0, 'kann man Mehlengel mit machen'),\n ('Klopapier', 40.0, 'Wertpapieranlage in Rollen'),\n ('Mehl', 100.0, 'kann man Mehlengel mit machen'),\n ('Klopapier', 40.0, 'Wertpapieranlage in Rollen'),\n ('Mehl', 100.0, 'kann man Mehlengel mit machen'),\n ('Klopapier', 40.0, 'Wertpapieranlage in Rollen'),\n ('Mehl', 100.0, 'kann man Mehlengel mit machen'),\n ('Klopapier', 40.0, 'Wertpapieranlage in Rollen'),\n ('Mehl', 100.0, 'kann man Mehlengel mit machen'),\n ('Klopapier', 40.0, 'Wertpapieranlage in Rollen'),\n ('Mehl', 100.0, 'kann man Mehlengel mit machen'),\n ('Klopapier', 40.0, 'Wertpapieranlage in Rollen'),\n ('Mehl', 100.0, 'kann man Mehlengel mit machen'),\n ('Klopapier', 40.0, 'Wertpapieranlage in Rollen'),\n ('Mehl', 100.0, 'kann man Mehlengel mit machen'),\n ('Klopapier', 40.0, 'Wertpapieranlage in Rollen'),\n ('Mehl', 100.0, 'kann man Mehlengel mit machen'),\n ('Klopapier', 40.0, 'Wertpapieranlage in Rollen'),\n ('Mehl', 100.0, 'kann man Mehlengel mit machen'),\n ('Klopapier', 40.0, 'Wertpapieranlage in Rollen'),\n ('Mehl', 100.0, 'kann man Mehlengel mit machen'),\n ('Klopapier', 40.0, 'Wertpapieranlage in Rollen'),\n ('Mehl', 100.0, 'kann man Mehlengel mit machen'),\n ('Klopapier', 40.0, 'Wertpapieranlage in Rollen'),\n ('Mehl', 100.0, 'kann man Mehlengel mit machen'),\n ('Klopapier', 40.0, 'Wertpapieranlage in Rollen'),\n ('Mehl', 100.0, 'kann man Mehlengel mit machen'),\n ('Klopapier', 40.0, 'Wertpapieranlage in Rollen'),\n ('Mehl', 100.0, 'kann man Mehlengel mit machen'),\n ('Klopapier', 40.0, 'Wertpapieranlage in Rollen'),\n ('Mehl', 100.0, 'kann man Mehlengel mit machen'),\n ('Klopapier', 40.0, 'Wertpapieranlage in Rollen'),\n ('Mehl', 100.0, 'kann man Mehlengel mit machen'),\n ('Klopapier', 40.0, 'Wertpapieranlage in Rollen'),\n ('Mehl', 100.0, 'kann man Mehlengel mit machen'),\n ('Klopapier', 40.0, 'Wertpapieranlage in Rollen'),\n ('Mehl', 100.0, 'kann man Mehlengel mit machen'),\n ('Klopapier', 40.0, 'Wertpapieranlage in Rollen'),\n ('Mehl', 100.0, 'kann man Mehlengel mit machen'),\n ('Klopapier', 40.0, 'Wertpapieranlage in Rollen'),\n ('Mehl', 100.0, 'kann man Mehlengel mit machen'),\n ('Klopapier', 40.0, 'Wertpapieranlage in Rollen'),\n ('Mehl', 100.0, 'kann man Mehlengel mit machen'),\n ('Klopapier', 40.0, 'Wertpapieranlage in Rollen'),\n ('Mehl', 100.0, 'kann man Mehlengel mit machen'),\n ('Klopapier', 40.0, 'Wertpapieranlage in Rollen'),\n ('Mehl', 100.0, 'kann man Mehlengel mit machen'),\n ('Klopapier', 40.0, 'Wertpapieranlage in Rollen'),\n ('Mehl', 100.0, 'kann man Mehlengel mit machen'),\n ('Klopapier', 40.0, 'Wertpapieranlage in Rollen'),\n ('Mehl', 100.0, 'kann man Mehlengel mit machen'),\n ('Klopapier', 40.0, 'Wertpapieranlage in Rollen'),\n ('Mehl', 100.0, 'kann man Mehlengel mit machen'),\n ('Klopapier', 40.0, 'Wertpapieranlage in Rollen'),\n ('Mehl', 100.0, 'kann man Mehlengel mit machen'),\n ('Klopapier', 40.0, 'Wertpapieranlage in Rollen'),\n ('Mehl', 100.0, 'kann man Mehlengel mit machen'),\n ('Klopapier', 40.0, 'Wertpapieranlage in Rollen'),\n ('Mehl', 100.0, 'kann man Mehlengel mit machen'),\n ('Klopapier', 40.0, 'Wertpapieranlage in Rollen'),\n ('Mehl', 100.0, 'kann man Mehlengel mit machen'),\n ('Klopapier', 40.0, 'Wertpapieranlage in Rollen'),\n ('Mehl', 100.0, 'kann man Mehlengel mit machen'),\n ('Klopapier', 40.0, 'Wertpapieranlage in Rollen'),\n ('Mehl', 100.0, 'kann man Mehlengel mit machen'),\n ('Klopapier', 40.0, 'Wertpapieranlage in Rollen'),\n ('Mehl', 100.0, 'kann man Mehlengel mit machen'),\n ('Klopapier', 40.0, 'Wertpapieranlage in Rollen'),\n ('Mehl', 100.0, 'kann man Mehlengel mit machen'),\n ('Klopapier', 40.0, 'Wertpapieranlage in Rollen'),\n ('Mehl', 100.0, 'kann man Mehlengel mit machen'),\n ('Klopapier', 40.0, 'Wertpapieranlage in Rollen'),\n ('Mehl', 100.0, 'kann man Mehlengel mit machen'),\n ('Klopapier', 40.0, 'Wertpapieranlage in Rollen'),\n ('Mehl', 100.0, 'kann man Mehlengel mit machen'),\n ('Klopapier', 40.0, 'Wertpapieranlage in Rollen'),\n ('Mehl', 100.0, 'kann man Mehlengel mit machen'),\n ('Klopapier', 40.0, 'Wertpapieranlage in Rollen'),\n ('Mehl', 100.0, 'kann man Mehlengel mit machen'),\n ('Klopapier', 40.0, 'Wertpapieranlage in Rollen'),\n ('Mehl', 100.0, 'kann man Mehlengel mit machen'),\n ('Klopapier', 40.0, 'Wertpapieranlage in Rollen'),\n ('Mehl', 100.0, 'kann man Mehlengel mit machen'),\n ('Klopapier', 40.0, 'Wertpapieranlage in Rollen'),\n ('Mehl', 100.0, 'kann man Mehlengel mit machen'),\n ('Klopapier', 40.0, 'Wertpapieranlage in Rollen'),\n ('Mehl', 100.0, 'kann man Mehlengel mit machen'),\n ('Klopapier', 40.0, 'Wertpapieranlage in Rollen'),\n ('Mehl', 100.0, 'kann man Mehlengel mit machen'),\n ('Klopapier', 40.0, 'Wertpapieranlage in Rollen'),\n ('Mehl', 100.0, 'kann man Mehlengel mit machen'),\n ('Klopapier', 40.0, 'Wertpapieranlage in Rollen'),\n ('Mehl', 100.0, 'kann man Mehlengel mit machen'),\n ('Klopapier', 40.0, 'Wertpapieranlage in Rollen'),\n ('Mehl', 100.0, 'kann man Mehlengel mit machen'),\n ('Klopapier', 40.0, 'Wertpapieranlage in Rollen'),\n ('Mehl', 100.0, 'kann man Mehlengel mit machen'),\n ('Klopapier', 40.0, 'Wertpapieranlage in Rollen'),\n ('Mehl', 100.0, 'kann man Mehlengel mit machen'),\n ('Klopapier', 40.0, 'Wertpapieranlage in Rollen'),\n ('Mehl', 100.0, 'kann man Mehlengel mit machen'),\n ('Klopapier', 40.0, 'Wertpapieranlage in Rollen'),\n ('Mehl', 100.0, 'kann man Mehlengel mit machen'),\n ('Klopapier', 40.0, 'Wertpapieranlage in Rollen'),\n ('Mehl', 100.0, 'kann man Mehlengel mit machen'),\n ('Klopapier', 40.0, 'Wertpapieranlage in Rollen'),\n ('Mehl', 100.0, 'kann man Mehlengel mit machen'),\n ('Klopapier', 40.0, 'Wertpapieranlage in Rollen'),\n ('Mehl', 100.0, 'kann man Mehlengel mit machen'),\n ('Klopapier', 40.0, 'Wertpapieranlage in Rollen'),\n ('Mehl', 100.0, 'kann man Mehlengel mit machen'),\n ('Klopapier', 40.0, 'Wertpapieranlage in Rollen'),\n ('Mehl', 100.0, 'kann man Mehlengel mit machen'),\n ('Klopapier', 40.0, 'Wertpapieranlage in Rollen'),\n ('Mehl', 100.0, 'kann man Mehlengel mit machen'),\n ('Klopapier', 40.0, 'Wertpapieranlage in Rollen'),\n ('Mehl', 100.0, 'kann man Mehlengel mit machen'),\n ('Klopapier', 40.0, 'Wertpapieranlage in Rollen'),\n ('Mehl', 100.0, 'kann man Mehlengel mit machen'),\n ('Klopapier', 40.0, 'Wertpapieranlage in Rollen'),\n ('Mehl', 100.0, 'kann man Mehlengel mit machen'),\n ('Klopapier', 40.0, 'Wertpapieranlage in Rollen'),\n ('Mehl', 100.0, 'kann man Mehlengel mit machen'),\n ('Klopapier', 40.0, 'Wertpapieranlage in Rollen'),\n ('Mehl', 100.0, 'kann man Mehlengel mit machen'),\n ('Klopapier', 40.0, 'Wertpapieranlage in Rollen'),\n ('Mehl', 100.0, 'kann man Mehlengel mit machen'),\n ('Klopapier', 40.0, 'Wertpapieranlage in Rollen'),\n ('Mehl', 100.0, 'kann man Mehlengel mit machen'),\n ('Klopapier', 40.0, 'Wertpapieranlage in Rollen'),\n ('Mehl', 100.0, 'kann man Mehlengel mit machen'),\n ('Klopapier', 40.0, 'Wertpapieranlage in Rollen'),\n ('Mehl', 100.0, 'kann man Mehlengel mit machen'),\n ('Klopapier', 40.0, 'Wertpapieranlage in Rollen'),\n ('Mehl', 100.0, 'kann man Mehlengel mit machen'),\n ('Klopapier', 40.0, 'Wertpapieranlage in Rollen'),\n ('Mehl', 100.0, 'kann man Mehlengel mit machen'),\n ('Klopapier', 40.0, 'Wertpapieranlage in Rollen'),\n ('Mehl', 100.0, 'kann man Mehlengel mit machen'),\n ('Klopapier', 40.0, 'Wertpapieranlage in Rollen'),\n ('Mehl', 100.0, 'kann man Mehlengel mit machen'),\n ('Klopapier', 40.0, 'Wertpapieranlage in Rollen'),\n ('Mehl', 100.0, 'kann man Mehlengel mit machen'),\n ('Klopapier', 40.0, 'Wertpapieranlage in Rollen'),\n ('Mehl', 100.0, 'kann man Mehlengel mit machen'),\n ('Klopapier', 40.0, 'Wertpapieranlage in Rollen'),\n ('Mehl', 100.0, 'kann man Mehlengel mit machen'),\n ('Klopapier', 40.0, 'Wertpapieranlage in Rollen'),\n ('Mehl', 100.0, 'kann man Mehlengel mit machen'),\n ('Klopapier', 40.0, 'Wertpapieranlage in Rollen'),\n ('Mehl', 100.0, 'kann man Mehlengel mit machen'),\n ('Klopapier', 40.0, 'Wertpapieranlage in Rollen'),\n ('Mehl', 100.0, 'kann man Mehlengel mit machen'),\n ('Klopapier', 40.0, 'Wertpapieranlage in Rollen'),\n ('Mehl', 100.0, 'kann man Mehlengel mit machen'),\n ('Klopapier', 40.0, 'Wertpapieranlage in Rollen'),\n ('Mehl', 100.0, 'kann man Mehlengel mit machen'),\n ('Klopapier', 40.0, 'Wertpapieranlage in Rollen'),\n ('Mehl', 100.0, 'kann man Mehlengel mit machen'),\n ('Klopapier', 40.0, 'Wertpapieranlage in Rollen'),\n ('Mehl', 100.0, 'kann man Mehlengel mit machen'),\n ('Klopapier', 40.0, 'Wertpapieranlage in Rollen'),\n ('Mehl', 100.0, 'kann man Mehlengel mit machen'),\n ('Klopapier', 40.0, 'Wertpapieranlage in Rollen'),\n ('Mehl', 100.0, 'kann man Mehlengel mit machen'),\n ('Klopapier', 40.0, 'Wertpapieranlage in Rollen'),\n ('Mehl', 100.0, 'kann man Mehlengel mit machen')]"
     },
     "execution_count": 28,
     "metadata": {},
     "output_type": "execute_result"
    }
   ],
   "source": [
    "my_result = connection.execute(query)\n",
    "my_result.fetchall()"
   ],
   "metadata": {
    "collapsed": false,
    "pycharm": {
     "name": "#%%\n"
    }
   }
  },
  {
   "cell_type": "code",
   "execution_count": 32,
   "outputs": [
    {
     "data": {
      "text/plain": "<sqlalchemy.engine.cursor.LegacyCursorResult at 0x1c911d13d90>"
     },
     "execution_count": 32,
     "metadata": {},
     "output_type": "execute_result"
    }
   ],
   "source": [
    "my_insert_query = db.insert(my_detection).values([\"Nudeln\", 2000, \"ready for hamster mode\"])\n",
    "\n",
    "connection.execute(my_insert_query)"
   ],
   "metadata": {
    "collapsed": false,
    "pycharm": {
     "name": "#%%\n"
    }
   }
  },
  {
   "cell_type": "markdown",
   "source": [
    "# Aufgabe\n",
    "- checksum von Namen berechnen\n",
    "- [a,b,c,d] --- position im array = Wert des Buchstabens, a=1, b=2, usw\n",
    "- Summe durch zwei Teilen\n",
    "\n",
    "## Beispiel\n",
    "ABC --- 1 + 2 + 3 = 6\n",
    "\n",
    "## Eingabe\n",
    "Name --- Vorname Nachname\n",
    "\n",
    "## Umwandlung\n",
    "ö ä ß, etc --- oe, ae, ss, etc\n",
    "\n",
    "## Muss in Funktionen sein!"
   ],
   "metadata": {
    "collapsed": false,
    "pycharm": {
     "name": "#%% md\n"
    }
   }
  }
 ],
 "metadata": {
  "kernelspec": {
   "display_name": "Python 3",
   "language": "python",
   "name": "python3"
  },
  "language_info": {
   "codemirror_mode": {
    "name": "ipython",
    "version": 2
   },
   "file_extension": ".py",
   "mimetype": "text/x-python",
   "name": "python",
   "nbconvert_exporter": "python",
   "pygments_lexer": "ipython2",
   "version": "2.7.6"
  }
 },
 "nbformat": 4,
 "nbformat_minor": 0
}