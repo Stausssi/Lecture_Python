{
 "cells": [
  {
   "cell_type": "markdown",
   "metadata": {
    "collapsed": true,
    "pycharm": {
     "name": "#%% md\n"
    }
   },
   "source": [
    "## Daten aus dem Web beziehen"
   ]
  },
  {
   "cell_type": "code",
   "execution_count": 59,
   "outputs": [],
   "source": [
    "import requests\n",
    "from bs4 import BeautifulSoup"
   ],
   "metadata": {
    "collapsed": false,
    "pycharm": {
     "name": "#%%\n"
    }
   }
  },
  {
   "cell_type": "code",
   "execution_count": 60,
   "outputs": [],
   "source": [
    "url = \"https://www.bahn.de/p/view/index.shtml\"\n",
    "my_text = requests.get(url)"
   ],
   "metadata": {
    "collapsed": false,
    "pycharm": {
     "name": "#%%\n"
    }
   }
  },
  {
   "cell_type": "code",
   "execution_count": 61,
   "outputs": [
    {
     "data": {
      "text/plain": "requests.models.Response"
     },
     "execution_count": 61,
     "metadata": {},
     "output_type": "execute_result"
    }
   ],
   "source": [
    "type(my_text)"
   ],
   "metadata": {
    "collapsed": false,
    "pycharm": {
     "name": "#%%\n"
    }
   }
  },
  {
   "cell_type": "code",
   "execution_count": 62,
   "outputs": [],
   "source": [
    "my_text = my_text.text"
   ],
   "metadata": {
    "collapsed": false,
    "pycharm": {
     "name": "#%%\n"
    }
   }
  },
  {
   "cell_type": "code",
   "execution_count": 63,
   "outputs": [],
   "source": [
    "my_soup = BeautifulSoup(my_text, \"html.parser\")"
   ],
   "metadata": {
    "collapsed": false,
    "pycharm": {
     "name": "#%%\n"
    }
   }
  },
  {
   "cell_type": "code",
   "execution_count": 64,
   "outputs": [
    {
     "data": {
      "text/plain": "[<img class=\"responsive-image\" data-img-desktop=\"/common/view/static/v8/img/db_em_rgb_100px.svg\" data-img-phone=\"/common/view/static/v8/img/db_em_rgb_100px.svg\" data-img-tablet=\"/common/view/static/v8/img/db_em_rgb_100px.svg\" src=\"/common/view/static/v8/img/db_em_rgb_100px.svg\"/>,\n <img src=\"/p/view/mdb/bahnintern/startseite/startseite2015/mood_visuals/mdb_327811_moodbild_980x230_fruehling_02_maerz_21_neu_980x230_hq.jpg\"/>,\n <img src=\"/p/view/mdb/bahnintern/startseite/startseite2015/topangebote/mdb_312645_angebotsrondell_800x400_corona_684x342_hq.jpg\"/>,\n <img data-src=\"/p/view/mdb/bahnintern/startseite/startseite2015/topangebote/mdb_327808_angebotsrondell_800x400_sicher_reisen_maerz_2021_684x342_hq.jpg\"/>,\n <img data-src=\"/p/view/mdb/bahnintern/startseite/startseite2015/topangebote/mdb_327423_angebote_db_navi_800x400_2_684x342_hq.jpg\"/>,\n <img data-src=\"/p/view/mdb/bahnintern/startseite/startseite2015/topangebote/mdb_312536_angebotsrondell_800x400_corona_sitzplatzreservierung_684x342_hq.jpg\"/>,\n <img data-src=\"/p/view/mdb/bahnintern/international/redaktion_bahn.com/mdb_315267_corona-warn-app_4zu2_v2_684x342_hq.jpg\"/>,\n <img data-img-desktop=\"/p/view/mdb/bahnintern/startseite/startseite2015/visuals/2021/03_mrz/mdb_327898_db-mobil_visual_april21_980x300_980x300_hq.jpg\" data-img-phone=\"/p/view/mdb/bahnintern/startseite/startseite2015/visuals/2021/03_mrz/mdb_327898_db-mobil_visual_april21_980x300_980x300_hq.jpg\" data-img-tablet=\"/p/view/mdb/bahnintern/startseite/startseite2015/visuals/2021/03_mrz/mdb_327898_db-mobil_visual_april21_980x300_980x300_hq.jpg\" src=\"/p/view/mdb/bahnintern/startseite/startseite2015/visuals/2021/03_mrz/mdb_327898_db-mobil_visual_april21_980x300_980x300_hq.jpg\"/>,\n <img data-img-desktop=\"/p/view/mdb/bahnintern/startseite/startseite2015/visuals/2021/03_mrz/mdb_327904_visual_ice_980x300_980x300_hq.jpg\" data-img-phone=\"/p/view/mdb/bahnintern/startseite/startseite2015/visuals/2021/03_mrz/mdb_327904_visual_ice_980x300_980x300_hq.jpg\" data-img-tablet=\"/p/view/mdb/bahnintern/startseite/startseite2015/visuals/2021/03_mrz/mdb_327904_visual_ice_980x300_980x300_hq.jpg\" data-src=\"/p/view/mdb/bahnintern/startseite/startseite2015/visuals/2021/03_mrz/mdb_327904_visual_ice_980x300_980x300_hq.jpg\"/>,\n <img data-img-desktop=\"/p/view/mdb/bahnintern/startseite/startseite2015/visuals/2021/01_januar/mdb_325742_233670-311978_visual_sparpreis_980x300_980x300_hq.jpg\" data-img-phone=\"/p/view/mdb/bahnintern/startseite/startseite2015/visuals/2021/01_januar/mdb_325742_233670-311978_visual_sparpreis_980x300_980x300_hq.jpg\" data-img-tablet=\"/p/view/mdb/bahnintern/startseite/startseite2015/visuals/2021/01_januar/mdb_325742_233670-311978_visual_sparpreis_980x300_980x300_hq.jpg\" data-src=\"/p/view/mdb/bahnintern/startseite/startseite2015/visuals/2021/01_januar/mdb_325742_233670-311978_visual_sparpreis_980x300_980x300_hq.jpg\"/>,\n <img data-img-desktop=\"/p/view/mdb/bahnintern/startseite/startseite2015/visuals/2021/03_mrz/mdb_327316_980x300_bahnbonus_ostern_2021_980x300_hq.jpg\" data-img-phone=\"/p/view/mdb/bahnintern/startseite/startseite2015/visuals/2021/03_mrz/mdb_327316_980x300_bahnbonus_ostern_2021_980x300_hq.jpg\" data-img-tablet=\"/p/view/mdb/bahnintern/startseite/startseite2015/visuals/2021/03_mrz/mdb_327316_980x300_bahnbonus_ostern_2021_980x300_hq.jpg\" data-src=\"/p/view/mdb/bahnintern/startseite/startseite2015/visuals/2021/03_mrz/mdb_327316_980x300_bahnbonus_ostern_2021_980x300_hq.jpg\"/>,\n <img src=\"/p/view/mdb/bahnintern/startseite/startseite2015/teaser/navigation/mdb_304292_ticketsundangebote.svg\"/>,\n <img src=\"/p/view/mdb/bahnintern/startseite/startseite2015/teaser/navigation/mdb_304291_reiseundservices.svg\"/>,\n <img src=\"/p/view/mdb/bahnintern/startseite/startseite2015/teaser/navigation/mdb_304289_bahncard.svg\"/>,\n <img src=\"/p/view/mdb/bahnintern/startseite/startseite2015/teaser/navigation/mdb_304290_geschaeftskunden.svg\"/>,\n <img src=\"/p/view/mdb/bahnintern/startseite/startseite2015/teaser/navigation/mdb_304523_piktogramm_urlaub_staedtereisen_280x140.svg\"/>,\n <img data-img-desktop=\"/p/view/mdb/bahnintern/startseite/startseite2015/visuals/2021/03_mrz/mdb_327728_br_423_023_redesign-dominik_schleuter_980x300_980x300_hq.jpg\" data-img-phone=\"/p/view/mdb/bahnintern/startseite/startseite2015/visuals/2021/03_mrz/mdb_327728_br_423_023_redesign-dominik_schleuter_980x300_980x300_hq.jpg\" data-img-tablet=\"/p/view/mdb/bahnintern/startseite/startseite2015/visuals/2021/03_mrz/mdb_327728_br_423_023_redesign-dominik_schleuter_980x300_980x300_hq.jpg\" src=\"/p/view/mdb/bahnintern/startseite/startseite2015/visuals/2021/03_mrz/mdb_327728_br_423_023_redesign-dominik_schleuter_980x300_980x300_hq.jpg\"/>,\n <img alt=\"\" border=\"0\" height=\"1\" src=\"https://st.bahn.de/b/ss/dbbahnprod/1/H.20.3--NS/50097?pageName=BAHN_PVE_DEU_DE_index&amp;ch=BAHN_PVE_DEU_DE&amp;c4=BAHN_PVE_DEU_DE&amp;v4=BAHN_PVE_DEU_DE&amp;c22=https://www.bahn.de/p/view/index.shtml&amp;v22=https://www.bahn.de/p/view/index.shtml\" width=\"1\"/>]"
     },
     "execution_count": 64,
     "metadata": {},
     "output_type": "execute_result"
    }
   ],
   "source": [
    "pic_list = []\n",
    "for picture_el in my_soup.find_all(\"img\"):\n",
    "    pic_list.append(picture_el)\n",
    "\n",
    "pic_list"
   ],
   "metadata": {
    "collapsed": false,
    "pycharm": {
     "name": "#%%\n"
    }
   }
  },
  {
   "cell_type": "markdown",
   "source": [
    "### Daten aus Stockseite in Dataframe"
   ],
   "metadata": {
    "collapsed": false,
    "pycharm": {
     "name": "#%% md\n"
    }
   }
  },
  {
   "cell_type": "code",
   "execution_count": 65,
   "outputs": [],
   "source": [
    "import pandas\n",
    "\n",
    "tableData = pandas.read_html(requests.get(\"https://traderfox.de/aktien/dax-bestandteile\").text)\n",
    "\n",
    "if len(tableData) == 1:\n",
    "    tableData = tableData[0]"
   ],
   "metadata": {
    "collapsed": false,
    "pycharm": {
     "name": "#%%\n"
    }
   }
  },
  {
   "cell_type": "code",
   "execution_count": 66,
   "outputs": [
    {
     "data": {
      "text/plain": "                                                 Wert     WKN   N   Aktuell  \\\n0                                           adidas AG  A1EWWW   6  264,250€   \n1                                          Allianz SE  840400  15  214,625€   \n2                                             BASF SE  BASF11   7   70,295€   \n3                                            Bayer AG  BAY001   -   53,300€   \n4                         Bayerische Motoren Werke AG  519000   7   85,570€   \n5                                      Continental AG  543900   3  112,075€   \n6                                         Covestro AG  606214   2   56,670€   \n7                                          Daimler AG  710000  13   73,695€   \n8                                    Delivery Hero SE  A2E4K4   1  108,475€   \n9                                    Deutsche Bank AG  514000  23   10,148€   \n10                                  Deutsche Börse AG  581005   3  140,425€   \n11                                   Deutsche Post AG  555200   2   45,845€   \n12                                Deutsche Telekom AG  555750   6   17,155€   \n13                                 Deutsche Wohnen SE  A0HN5C   1   39,480€   \n14                                            E.ON SE  ENAG99   3    9,772€   \n15               Fresenius Medical Care AG & Co. KGaA  578580   1   63,870€   \n16                            Fresenius SE & Co. KGaA  578560   3   37,860€   \n17                                HeidelbergCement AG  604700   3   76,750€   \n18                               Henkel AG & Co. KGaA  604843   -   97,270€   \n19                           Infineon Technologies AG  623100   -   34,915€   \n20                                          Linde PLC  A2DSYC   3  237,750€   \n21                                         Merck KGaA  659990   3  145,975€   \n22                                MTU Aero Engines AG  A0D9PT   -  196,350€   \n23  Münchener Rückversicherungs-Gesellschaft AG in...  843002   -  260,550€   \n24                                             RWE AG  703712   7   32,750€   \n25                                             SAP SE  716460   2  104,120€   \n26                                         Siemens AG  723610   7  137,920€   \n27                                  Siemens Energy AG  ENER6Y   1   29,955€   \n28                                  Volkswagen AG Vz.  766403  43  230,625€   \n29                                         Vonovia SE  A1ML7J   1   55,640€   \n\n          %  \n0   +0,67 %  \n1   +0,69 %  \n2   +0,64 %  \n3   +0,30 %  \n4   +2,11 %  \n5   +1,11 %  \n6   +0,48 %  \n7   +0,72 %  \n8   -2,41 %  \n9   -3,57 %  \n10  +0,02 %  \n11  +0,78 %  \n12  +1,69 %  \n13  -2,23 %  \n14  +2,03 %  \n15  +0,36 %  \n16  +0,58 %  \n17  +1,04 %  \n18  +1,41 %  \n19  -0,44 %  \n20  +1,17 %  \n21  +0,40 %  \n22  -0,61 %  \n23  -0,06 %  \n24  +0,09 %  \n25  +1,21 %  \n26  +0,47 %  \n27  -0,75 %  \n28  +1,13 %  \n29  -0,18 %  ",
      "text/html": "<div>\n<style scoped>\n    .dataframe tbody tr th:only-of-type {\n        vertical-align: middle;\n    }\n\n    .dataframe tbody tr th {\n        vertical-align: top;\n    }\n\n    .dataframe thead th {\n        text-align: right;\n    }\n</style>\n<table border=\"1\" class=\"dataframe\">\n  <thead>\n    <tr style=\"text-align: right;\">\n      <th></th>\n      <th>Wert</th>\n      <th>WKN</th>\n      <th>N</th>\n      <th>Aktuell</th>\n      <th>%</th>\n    </tr>\n  </thead>\n  <tbody>\n    <tr>\n      <th>0</th>\n      <td>adidas AG</td>\n      <td>A1EWWW</td>\n      <td>6</td>\n      <td>264,250€</td>\n      <td>+0,67 %</td>\n    </tr>\n    <tr>\n      <th>1</th>\n      <td>Allianz SE</td>\n      <td>840400</td>\n      <td>15</td>\n      <td>214,625€</td>\n      <td>+0,69 %</td>\n    </tr>\n    <tr>\n      <th>2</th>\n      <td>BASF SE</td>\n      <td>BASF11</td>\n      <td>7</td>\n      <td>70,295€</td>\n      <td>+0,64 %</td>\n    </tr>\n    <tr>\n      <th>3</th>\n      <td>Bayer AG</td>\n      <td>BAY001</td>\n      <td>-</td>\n      <td>53,300€</td>\n      <td>+0,30 %</td>\n    </tr>\n    <tr>\n      <th>4</th>\n      <td>Bayerische Motoren Werke AG</td>\n      <td>519000</td>\n      <td>7</td>\n      <td>85,570€</td>\n      <td>+2,11 %</td>\n    </tr>\n    <tr>\n      <th>5</th>\n      <td>Continental AG</td>\n      <td>543900</td>\n      <td>3</td>\n      <td>112,075€</td>\n      <td>+1,11 %</td>\n    </tr>\n    <tr>\n      <th>6</th>\n      <td>Covestro AG</td>\n      <td>606214</td>\n      <td>2</td>\n      <td>56,670€</td>\n      <td>+0,48 %</td>\n    </tr>\n    <tr>\n      <th>7</th>\n      <td>Daimler AG</td>\n      <td>710000</td>\n      <td>13</td>\n      <td>73,695€</td>\n      <td>+0,72 %</td>\n    </tr>\n    <tr>\n      <th>8</th>\n      <td>Delivery Hero SE</td>\n      <td>A2E4K4</td>\n      <td>1</td>\n      <td>108,475€</td>\n      <td>-2,41 %</td>\n    </tr>\n    <tr>\n      <th>9</th>\n      <td>Deutsche Bank AG</td>\n      <td>514000</td>\n      <td>23</td>\n      <td>10,148€</td>\n      <td>-3,57 %</td>\n    </tr>\n    <tr>\n      <th>10</th>\n      <td>Deutsche Börse AG</td>\n      <td>581005</td>\n      <td>3</td>\n      <td>140,425€</td>\n      <td>+0,02 %</td>\n    </tr>\n    <tr>\n      <th>11</th>\n      <td>Deutsche Post AG</td>\n      <td>555200</td>\n      <td>2</td>\n      <td>45,845€</td>\n      <td>+0,78 %</td>\n    </tr>\n    <tr>\n      <th>12</th>\n      <td>Deutsche Telekom AG</td>\n      <td>555750</td>\n      <td>6</td>\n      <td>17,155€</td>\n      <td>+1,69 %</td>\n    </tr>\n    <tr>\n      <th>13</th>\n      <td>Deutsche Wohnen SE</td>\n      <td>A0HN5C</td>\n      <td>1</td>\n      <td>39,480€</td>\n      <td>-2,23 %</td>\n    </tr>\n    <tr>\n      <th>14</th>\n      <td>E.ON SE</td>\n      <td>ENAG99</td>\n      <td>3</td>\n      <td>9,772€</td>\n      <td>+2,03 %</td>\n    </tr>\n    <tr>\n      <th>15</th>\n      <td>Fresenius Medical Care AG &amp; Co. KGaA</td>\n      <td>578580</td>\n      <td>1</td>\n      <td>63,870€</td>\n      <td>+0,36 %</td>\n    </tr>\n    <tr>\n      <th>16</th>\n      <td>Fresenius SE &amp; Co. KGaA</td>\n      <td>578560</td>\n      <td>3</td>\n      <td>37,860€</td>\n      <td>+0,58 %</td>\n    </tr>\n    <tr>\n      <th>17</th>\n      <td>HeidelbergCement AG</td>\n      <td>604700</td>\n      <td>3</td>\n      <td>76,750€</td>\n      <td>+1,04 %</td>\n    </tr>\n    <tr>\n      <th>18</th>\n      <td>Henkel AG &amp; Co. KGaA</td>\n      <td>604843</td>\n      <td>-</td>\n      <td>97,270€</td>\n      <td>+1,41 %</td>\n    </tr>\n    <tr>\n      <th>19</th>\n      <td>Infineon Technologies AG</td>\n      <td>623100</td>\n      <td>-</td>\n      <td>34,915€</td>\n      <td>-0,44 %</td>\n    </tr>\n    <tr>\n      <th>20</th>\n      <td>Linde PLC</td>\n      <td>A2DSYC</td>\n      <td>3</td>\n      <td>237,750€</td>\n      <td>+1,17 %</td>\n    </tr>\n    <tr>\n      <th>21</th>\n      <td>Merck KGaA</td>\n      <td>659990</td>\n      <td>3</td>\n      <td>145,975€</td>\n      <td>+0,40 %</td>\n    </tr>\n    <tr>\n      <th>22</th>\n      <td>MTU Aero Engines AG</td>\n      <td>A0D9PT</td>\n      <td>-</td>\n      <td>196,350€</td>\n      <td>-0,61 %</td>\n    </tr>\n    <tr>\n      <th>23</th>\n      <td>Münchener Rückversicherungs-Gesellschaft AG in...</td>\n      <td>843002</td>\n      <td>-</td>\n      <td>260,550€</td>\n      <td>-0,06 %</td>\n    </tr>\n    <tr>\n      <th>24</th>\n      <td>RWE AG</td>\n      <td>703712</td>\n      <td>7</td>\n      <td>32,750€</td>\n      <td>+0,09 %</td>\n    </tr>\n    <tr>\n      <th>25</th>\n      <td>SAP SE</td>\n      <td>716460</td>\n      <td>2</td>\n      <td>104,120€</td>\n      <td>+1,21 %</td>\n    </tr>\n    <tr>\n      <th>26</th>\n      <td>Siemens AG</td>\n      <td>723610</td>\n      <td>7</td>\n      <td>137,920€</td>\n      <td>+0,47 %</td>\n    </tr>\n    <tr>\n      <th>27</th>\n      <td>Siemens Energy AG</td>\n      <td>ENER6Y</td>\n      <td>1</td>\n      <td>29,955€</td>\n      <td>-0,75 %</td>\n    </tr>\n    <tr>\n      <th>28</th>\n      <td>Volkswagen AG Vz.</td>\n      <td>766403</td>\n      <td>43</td>\n      <td>230,625€</td>\n      <td>+1,13 %</td>\n    </tr>\n    <tr>\n      <th>29</th>\n      <td>Vonovia SE</td>\n      <td>A1ML7J</td>\n      <td>1</td>\n      <td>55,640€</td>\n      <td>-0,18 %</td>\n    </tr>\n  </tbody>\n</table>\n</div>"
     },
     "execution_count": 66,
     "metadata": {},
     "output_type": "execute_result"
    }
   ],
   "source": [
    "tableData"
   ],
   "metadata": {
    "collapsed": false,
    "pycharm": {
     "name": "#%%\n"
    }
   }
  },
  {
   "cell_type": "markdown",
   "source": [
    "#### Nun als Funktion"
   ],
   "metadata": {
    "collapsed": false,
    "pycharm": {
     "name": "#%% md\n"
    }
   }
  },
  {
   "cell_type": "code",
   "execution_count": 69,
   "outputs": [],
   "source": [
    "def update_data(fetchURL=\"https://traderfox.de/aktien/dax-bestandteile\"):\n",
    "    \"\"\"\n",
    "        update data from traderfox url website\n",
    "\n",
    "        @:param\n",
    "            * url\n",
    "        @:return\n",
    "            * pandas dataframe\n",
    "    \"\"\"\n",
    "\n",
    "    try:\n",
    "        tableListData = pandas.read_html(requests.get(fetchURL).text)\n",
    "        if len(tableListData) == 1:\n",
    "            return tableListData[0]\n",
    "        else:\n",
    "            return pandas.DataFrame()\n",
    "    except Exception as error:\n",
    "        print(\"i dieded:\", error)"
   ],
   "metadata": {
    "collapsed": false,
    "pycharm": {
     "name": "#%%\n"
    }
   }
  },
  {
   "cell_type": "code",
   "execution_count": 80,
   "outputs": [
    {
     "name": "stdout",
     "output_type": "stream",
     "text": [
      "                                                 Wert     WKN   N   Aktuell  \\\n",
      "0                                           adidas AG  A1EWWW   6  264,350€   \n",
      "1                                          Allianz SE  840400  14  214,625€   \n",
      "2                                             BASF SE  BASF11   6   70,245€   \n",
      "3                                            Bayer AG  BAY001   -   53,325€   \n",
      "4                         Bayerische Motoren Werke AG  519000   7   85,520€   \n",
      "5                                      Continental AG  543900   3  112,050€   \n",
      "6                                         Covestro AG  606214   2   56,670€   \n",
      "7                                          Daimler AG  710000  14   73,685€   \n",
      "8                                    Delivery Hero SE  A2E4K4   2  108,275€   \n",
      "9                                    Deutsche Bank AG  514000  25   10,166€   \n",
      "10                                  Deutsche Börse AG  581005   3  140,425€   \n",
      "11                                   Deutsche Post AG  555200   2   45,845€   \n",
      "12                                Deutsche Telekom AG  555750   6   17,160€   \n",
      "13                                 Deutsche Wohnen SE  A0HN5C   1   39,490€   \n",
      "14                                            E.ON SE  ENAG99   3    9,778€   \n",
      "15               Fresenius Medical Care AG & Co. KGaA  578580   1   63,870€   \n",
      "16                            Fresenius SE & Co. KGaA  578560   3   37,865€   \n",
      "17                                HeidelbergCement AG  604700   4   76,770€   \n",
      "18                               Henkel AG & Co. KGaA  604843   -   97,270€   \n",
      "19                           Infineon Technologies AG  623100   -   34,965€   \n",
      "20                                          Linde PLC  A2DSYC   3  237,400€   \n",
      "21                                         Merck KGaA  659990   5  145,975€   \n",
      "22                                MTU Aero Engines AG  A0D9PT   -  195,875€   \n",
      "23  Münchener Rückversicherungs-Gesellschaft AG in...  843002   -  260,550€   \n",
      "24                                             RWE AG  703712   7   32,750€   \n",
      "25                                             SAP SE  716460   2  103,950€   \n",
      "26                                         Siemens AG  723610   9  137,940€   \n",
      "27                                  Siemens Energy AG  ENER6Y   1   30,035€   \n",
      "28                                  Volkswagen AG Vz.  766403  40  230,975€   \n",
      "29                                         Vonovia SE  A1ML7J   1   55,640€   \n",
      "\n",
      "          %  \n",
      "0   +0,70 %  \n",
      "1   +0,69 %  \n",
      "2   +0,57 %  \n",
      "3   +0,35 %  \n",
      "4   +2,05 %  \n",
      "5   +1,08 %  \n",
      "6   +0,48 %  \n",
      "7   +0,70 %  \n",
      "8   -2,59 %  \n",
      "9   -3,40 %  \n",
      "10  +0,02 %  \n",
      "11  +0,78 %  \n",
      "12  +1,72 %  \n",
      "13  -2,20 %  \n",
      "14  +2,09 %  \n",
      "15  +0,36 %  \n",
      "16  +0,60 %  \n",
      "17  +1,07 %  \n",
      "18  +1,41 %  \n",
      "19  -0,30 %  \n",
      "20  +1,02 %  \n",
      "21  +0,40 %  \n",
      "22  -0,85 %  \n",
      "23  -0,06 %  \n",
      "24  +0,09 %  \n",
      "25  +1,04 %  \n",
      "26  +0,48 %  \n",
      "27  -0,48 %  \n",
      "28  +1,28 %  \n",
      "29  -0,18 %  \n"
     ]
    }
   ],
   "source": [
    "from time import sleep\n",
    "import os\n",
    "\n",
    "for i in range(1):\n",
    "    os.system(\"cls\")\n",
    "\n",
    "    data = update_data()\n",
    "    print(data)\n",
    "\n",
    "    sleep(5)\n"
   ],
   "metadata": {
    "collapsed": false,
    "pycharm": {
     "name": "#%%\n"
    }
   }
  }
 ],
 "metadata": {
  "kernelspec": {
   "display_name": "Python 3",
   "language": "python",
   "name": "python3"
  },
  "language_info": {
   "codemirror_mode": {
    "name": "ipython",
    "version": 2
   },
   "file_extension": ".py",
   "mimetype": "text/x-python",
   "name": "python",
   "nbconvert_exporter": "python",
   "pygments_lexer": "ipython2",
   "version": "2.7.6"
  }
 },
 "nbformat": 4,
 "nbformat_minor": 0
}